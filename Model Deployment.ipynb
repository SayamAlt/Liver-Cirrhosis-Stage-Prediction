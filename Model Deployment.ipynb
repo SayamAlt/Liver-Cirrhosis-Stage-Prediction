{
 "cells": [
  {
   "cell_type": "code",
   "execution_count": 1,
   "id": "ae8fa965",
   "metadata": {},
   "outputs": [],
   "source": [
    "from flask import Flask, render_template, request \n",
    "import joblib"
   ]
  },
  {
   "cell_type": "code",
   "execution_count": 2,
   "id": "a1ee45e0",
   "metadata": {},
   "outputs": [
    {
     "data": {
      "text/plain": [
       "<catboost.core.CatBoostClassifier at 0x1ead6563b50>"
      ]
     },
     "execution_count": 2,
     "metadata": {},
     "output_type": "execute_result"
    }
   ],
   "source": [
    "model = joblib.load('model.pkl')\n",
    "model"
   ]
  },
  {
   "cell_type": "code",
   "execution_count": 3,
   "id": "241162af",
   "metadata": {},
   "outputs": [
    {
     "data": {
      "text/plain": [
       "StandardScaler()"
      ]
     },
     "execution_count": 3,
     "metadata": {},
     "output_type": "execute_result"
    }
   ],
   "source": [
    "scaler = joblib.load('scaler.bin')\n",
    "scaler"
   ]
  },
  {
   "cell_type": "code",
   "execution_count": 4,
   "id": "b006ceb8",
   "metadata": {},
   "outputs": [],
   "source": [
    "app = Flask(__name__)"
   ]
  },
  {
   "cell_type": "code",
   "execution_count": 5,
   "id": "ca3885ad",
   "metadata": {},
   "outputs": [],
   "source": [
    "@app.route(\"/\")\n",
    "def home():\n",
    "    return render_template('home.html')"
   ]
  },
  {
   "cell_type": "code",
   "execution_count": 6,
   "id": "bbc7b03b",
   "metadata": {},
   "outputs": [],
   "source": [
    "@app.route(\"/predict\", methods=[\"GET\",\"POST\"])\n",
    "def predict():\n",
    "    if request.method == \"POST\":\n",
    "        drug_selected = request.form['drug']\n",
    "        drug = -1.0\n",
    "        if drug_selected == \"D-penicillamine\":\n",
    "            drug = 0.0\n",
    "        elif drug_selected == \"Placebo\":\n",
    "            drug = 1.0\n",
    "        age = float(request.form['age']) #range: (26.0,78.0)\n",
    "        gender = request.form['sex']\n",
    "        sex = -1.0\n",
    "        if gender == 'Female':\n",
    "            sex = 0.0\n",
    "        elif gender == 'Male':\n",
    "            sex = 1.0\n",
    "        ascites_selected = request.form['ascites']\n",
    "        ascites = -1.0\n",
    "        if ascites_selected == 'No':\n",
    "            ascites = 0.0\n",
    "        elif ascites_selected == 'Yes':\n",
    "            ascites = 1.0\n",
    "        hepa_selected = request.form['hepatomegaly']\n",
    "        hepatomegaly = -1.0\n",
    "        if hepa_selected == 'No':\n",
    "            hepatomegaly = 0.0\n",
    "        elif hepa_selected == 'Yes':\n",
    "            hepatomegaly = 1.0\n",
    "        spider_selected = request.form['spiders']\n",
    "        spider = -1.0\n",
    "        if spider_selected == 'No':\n",
    "            spider = 0.0\n",
    "        elif spider_selected == 'Yes':\n",
    "            spider = 1.0\n",
    "        edema_selected = request.form['edema']\n",
    "        edema = -1.0\n",
    "        if edema_selected == 'No edema and no diuretic therapy for edema':\n",
    "            edema = 0.0\n",
    "        elif edema_selected == 'Edema present without diuretics, or edema resolved by diuretics':\n",
    "            edema = -1.0\n",
    "        elif edema_selected == 'Edema despite diuretic therapy':\n",
    "            edema = 1.0\n",
    "        bilirubin = float(request.form['bilirubin']) #range: (0.30,7.30)\n",
    "        cholesterol = float(request.form['cholesterol']) #range: (160.875,459.875)\n",
    "        albumin = float(request.form['albumin']) #range: (2.45,4.56)\n",
    "        copper = float(request.form['copper']) #range: (4.0,175.0)\n",
    "        alk_phos = float(request.form['alk_phos']) #range: (289.0,2745.0)\n",
    "        sgot = float(request.form['sgot']) #range: (26.35,202.88)\n",
    "        tryglycerides = float(request.form['tryglycerides']) #range: (45.875,176.875)\n",
    "        platelets = float(request.form['platelets']) #range: (62.0,503.75)\n",
    "        prothrombin = float(request.form['prothrombin']) #range: (9.0,12.75)\n",
    "        \n",
    "        X_test = scaler.inverse_transform([[\n",
    "                drug,\n",
    "                age,\n",
    "                sex,\n",
    "                ascites,\n",
    "                hepatomegaly,\n",
    "                spider,\n",
    "                edema,\n",
    "                bilirubin,\n",
    "                cholesterol,\n",
    "                albumin,\n",
    "                copper,\n",
    "                alk_phos,\n",
    "                sgot,\n",
    "                tryglycerides,\n",
    "                platelets,\n",
    "                prothrombin\n",
    "        ]])\n",
    "        \n",
    "        predictions = model.predict(X_test)\n",
    "        output = predictions[0]\n",
    "        \n",
    "        if output == 1:\n",
    "            return render_template('home.html',prediction_text=\"The person with the given details has normal liver.\")\n",
    "        elif output == 2:\n",
    "            return render_template('home.html',prediction_text=\"The person with the given details has fatty liver.\")\n",
    "        elif output == 3:\n",
    "            return render_template('home.html',prediction_text=\"The person with the given details is suffering from Liver Fibrosis.\")\n",
    "        elif output == 4:\n",
    "            return render_template('home.html',prediction_text=\"The person with the given details is suffering from Liver Cirrhosis.\")"
   ]
  },
  {
   "cell_type": "code",
   "execution_count": null,
   "id": "f621ba73",
   "metadata": {},
   "outputs": [
    {
     "name": "stdout",
     "output_type": "stream",
     "text": [
      " * Serving Flask app '__main__' (lazy loading)\n",
      " * Environment: production\n",
      "\u001b[31m   WARNING: This is a development server. Do not use it in a production deployment.\u001b[0m\n",
      "\u001b[2m   Use a production WSGI server instead.\u001b[0m\n",
      " * Debug mode: off\n"
     ]
    },
    {
     "name": "stderr",
     "output_type": "stream",
     "text": [
      " * Running on http://127.0.0.1:8080/ (Press CTRL+C to quit)\n",
      "127.0.0.1 - - [08/Jun/2022 02:22:38] \"GET / HTTP/1.1\" 200 -\n",
      "127.0.0.1 - - [08/Jun/2022 02:26:09] \"POST /predict HTTP/1.1\" 200 -\n"
     ]
    }
   ],
   "source": [
    "if __name__ == \"__main__\":\n",
    "    app.run(port=8080)"
   ]
  }
 ],
 "metadata": {
  "kernelspec": {
   "display_name": "Python 3 (ipykernel)",
   "language": "python",
   "name": "python3"
  },
  "language_info": {
   "codemirror_mode": {
    "name": "ipython",
    "version": 3
   },
   "file_extension": ".py",
   "mimetype": "text/x-python",
   "name": "python",
   "nbconvert_exporter": "python",
   "pygments_lexer": "ipython3",
   "version": "3.8.8"
  }
 },
 "nbformat": 4,
 "nbformat_minor": 5
}
